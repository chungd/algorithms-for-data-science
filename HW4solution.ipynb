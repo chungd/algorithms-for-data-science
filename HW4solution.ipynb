{
 "cells": [
  {
   "cell_type": "markdown",
   "metadata": {},
   "source": [
    "# Generalizations of Max-Flow\n",
    "\n",
    "The purpose of this assignment is to learn about the min-cost flow problem, a generalization of max-flow, and to familiarize yourself with implementing and solving linear programs."
   ]
  },
  {
   "cell_type": "markdown",
   "metadata": {},
   "source": [
    "## Min-Cost Flow\n",
    "\n",
    "Recall that a flow network with demands consists of a directed graph $G = (V, E)$, where each edge $(i,j) \\in E$ has a positive integer capacity $c_{ij}$ and each node $i \\in V$ has an integer demand $d_i$. In a *min-cost flow* problem, each edge $(i,j) \\in E$ also has a cost (or weight) $w_{ij}$. (Note that this input generalizes the input to two important problems we discussed so far: in max flow, the edge weights were not important while in shortest paths, the edge capacities were not important.) \n",
    "\n",
    "Given a flow network with capacities and costs, the goal is to find a *feasible* flow $f: E \\rightarrow R^+$ --that is, a flow satisfying edge capacity constraints and node demands-- that minimizes the total cost of the flow. Explicitly, the problem can be formulated as a linear program."
   ]
  },
  {
   "cell_type": "markdown",
   "metadata": {},
   "source": [
    "### Question 1\n",
    "\n",
    "Answer Problem 1 in HW4-theoretical."
   ]
  },
  {
   "cell_type": "markdown",
   "metadata": {},
   "source": [
    "### Question 2\n",
    "\n",
    "To implement your reduction from Problem 1 in HW4-theoretical, you will work with some standard benchmark instances for min-cost flow found [here](http://elib.zib.de/pub/Packages/mp-testdata/mincost/gte/index.html). The format of the data is described in the [Info](http://elib.zib.de/pub/Packages/mp-testdata/mincost/gte/info) file. You are to read in the graph from the data file in a form that can be solved using NetworkX's `min_cost_flow` function. Note that the data sometimes lists multiple edges between the same nodes, but with different costs or capacities. In forming the graph, you need to implement your reduction from the previous question and form a `DiGraph` instance, because the `min_cost_flow` function cannot handle multi-edges, even though the package offers `MultiDiGraph` objects."
   ]
  },
  {
   "cell_type": "code",
   "execution_count": 7,
   "metadata": {
    "collapsed": false
   },
   "outputs": [],
   "source": [
    "import networkx as nx\n",
    "\n",
    "def create_graph(infile):\n",
    "    G=nx.DiGraph() \n",
    "    node_dict = {}\n",
    "    with open(infile, 'r') as f:\n",
    "        for line in f:\n",
    "            s=line.strip().split(' ')\n",
    "            if (s[0] == \"n\") :\n",
    "                node = s[1]\n",
    "                demand = s[2]\n",
    "                node_dict[node] = int(demand)\n",
    "                G.add_nodes_from(node_dict)\n",
    "                for node in G.node:\n",
    "                    G.node[node]['demand']=node_dict[node]\n",
    "    with open(infile, 'r') as f:\n",
    "        for line in f:\n",
    "            s = line.strip().split(\" \")\n",
    "            if(s[0] == \"a\"):\n",
    "                tail = s[1]\n",
    "                head = s[2]\n",
    "                G.add_edge(tail,head)\n",
    "                capacity = s[4]\n",
    "                cost = s[5]\n",
    "                G.edge[tail][head]['capacity'] = int(capacity)\n",
    "                G.edge[tail][head]['weight'] = int(cost)\n",
    "                for node in G.node:\n",
    "                    if G.node[tail] == {}:\n",
    "                        G.node[tail]['demand'] = 0\n",
    "    #get duplicate edges\n",
    "    with open(infile, 'r') as f:\n",
    "        for line in f:\n",
    "            s = line.strip().split(\" \")\n",
    "            if(s[0] == \"a\"):\n",
    "                tail = s[1]\n",
    "                head = s[2]\n",
    "                capacity = s[4]\n",
    "                cost = s[5]\n",
    "                if (tail,head) in G.edges() and int(cost) != G.edge[tail][head]['weight']:\n",
    "                    extra_node = tail + 'to' + head\n",
    "                    G.add_node(extra_node)\n",
    "                    G.node[extra_node]['demand'] = 0\n",
    "                    G.add_edge(tail,extra_node)\n",
    "                    G.add_edge(extra_node,head)\n",
    "                    G.edge[tail][extra_node]['capacity'] = int(capacity)\n",
    "                    G.edge[tail][extra_node]['weight'] = float(cost)/2\n",
    "                    G.edge[extra_node][head]['capacity'] = int(capacity)\n",
    "                    G.edge[extra_node][head]['weight'] = float(cost)/2\n",
    "    return G"
   ]
  },
  {
   "cell_type": "markdown",
   "metadata": {},
   "source": [
    "The following will check that your code outputs the expected min cost flow values on several test instances."
   ]
  },
  {
   "cell_type": "code",
   "execution_count": 8,
   "metadata": {
    "collapsed": false
   },
   "outputs": [
    {
     "name": "stdout",
     "output_type": "stream",
     "text": [
      "Correct value for _40 instance: True\n",
      "Correct value for _6830 instance: True\n",
      "Correct value for _176280 instance: True\n"
     ]
    }
   ],
   "source": [
    "G_40 = create_graph('gte_bad.40')\n",
    "G_6830 = create_graph('gte_bad.6830')\n",
    "G_176280 = create_graph('gte_bad.176280')\n",
    "\n",
    "print \"Correct value for _40 instance:\", nx.min_cost_flow_cost(G_40) == 52099553858\n",
    "print \"Correct value for _6830 instance:\", nx.min_cost_flow_cost(G_6830) == 299390431788\n",
    "print \"Correct value for _176280 instance:\", nx.min_cost_flow_cost(G_176280) == 510585093810"
   ]
  },
  {
   "cell_type": "markdown",
   "metadata": {},
   "source": [
    "## Linear Programming\n",
    "\n",
    "Instead of using special-purpose min-cost flow solvers, you will now formulate the problems as linear programs and use general-purpose LP solvers to find the solutions."
   ]
  },
  {
   "cell_type": "markdown",
   "metadata": {},
   "source": [
    "### Question 3\n",
    "\n",
    "Implement the following function to formulate the flow LP and return the optimal value (i.e., minimum cost over feasible flows)."
   ]
  },
  {
   "cell_type": "code",
   "execution_count": 9,
   "metadata": {
    "collapsed": false
   },
   "outputs": [],
   "source": [
    "import pulp\n",
    "\n",
    "def lp_flow_value(G):\n",
    "\n",
    "# Adding in problem data from our graph\n",
    "    demand = nx.get_node_attributes(G,'demand')\n",
    "    weight = nx.get_edge_attributes(G,'weight')\n",
    "    capacity = nx.get_edge_attributes(G,'capacity')\n",
    "    edges = G.edges()\n",
    "    nodes = G.nodes()\n",
    "\n",
    "# define flow\n",
    "    flow = pulp.LpVariable.dicts(\"Route\",edges,0,None,pulp.LpInteger)\n",
    "\n",
    "#Container for problem\n",
    "    prob = pulp.LpProblem(\"Min Cost Flow\",pulp.LpMinimize)\n",
    "# Creates the objective function\n",
    "    prob += pulp.lpSum([weight[e]* flow[e] for e in edges]), \"Total Cost of Flow\"\n",
    "\n",
    "    for e in edges:\n",
    "        flow[e].bounds(0, capacity[e])\n",
    "\n",
    "    for n in nodes:\n",
    "        prob += (pulp.lpSum([flow[(i,j)] for (i,j) in edges if j == n])) - (pulp.lpSum([flow[(i,j)] for (i,j) in edges if i == n])) == demand[n]\n",
    "    \n",
    "    prob.writeLP(\"simple_MCFP.lp\")\n",
    "\n",
    "    prob.solve()\n",
    "    \n",
    "    return int(pulp.value(prob.objective))"
   ]
  },
  {
   "cell_type": "markdown",
   "metadata": {},
   "source": [
    "The following will check that the LP finds the same optimal values as previously."
   ]
  },
  {
   "cell_type": "code",
   "execution_count": 10,
   "metadata": {
    "collapsed": false
   },
   "outputs": [
    {
     "name": "stdout",
     "output_type": "stream",
     "text": [
      "Correct value for _40 instance: True\n",
      "Correct value for _6830 instance: True\n",
      "Correct value for _176280 instance: True\n"
     ]
    }
   ],
   "source": [
    "print \"Correct value for _40 instance:\", lp_flow_value(G_40) == 52099553858\n",
    "print \"Correct value for _6830 instance:\", lp_flow_value(G_6830) == 299390431788\n",
    "print \"Correct value for _176280 instance:\", lp_flow_value(G_176280) == 510585093810"
   ]
  }
 ],
 "metadata": {
  "kernelspec": {
   "display_name": "Python 2",
   "language": "python",
   "name": "python2"
  },
  "language_info": {
   "codemirror_mode": {
    "name": "ipython",
    "version": 2
   },
   "file_extension": ".py",
   "mimetype": "text/x-python",
   "name": "python",
   "nbconvert_exporter": "python",
   "pygments_lexer": "ipython2",
   "version": "2.7.10"
  }
 },
 "nbformat": 4,
 "nbformat_minor": 0
}
